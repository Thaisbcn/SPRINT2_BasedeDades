{
 "cells": [
  {
   "cell_type": "markdown",
   "id": "163d0b30",
   "metadata": {},
   "source": [
    "# TASCA M2 T01"
   ]
  },
  {
   "cell_type": "markdown",
   "id": "7f33a76d",
   "metadata": {},
   "source": [
    "## Exercici 1: Crea una llista que agrupi els mesos de l’any en trimestres (1T: gener, febrer i març; 2T: abril, maig, juny...), és a dir, una llista amb 4 llistes dins"
   ]
  },
  {
   "cell_type": "code",
   "execution_count": 2,
   "id": "4e77c96e",
   "metadata": {},
   "outputs": [
    {
     "name": "stdout",
     "output_type": "stream",
     "text": [
      "[['gener', 'febrer', 'març'], ['abril', 'maig', 'juny'], ['juliol', 'agost', 'septembre'], ['octubre', 'novembre', 'decembre']]\n"
     ]
    }
   ],
   "source": [
    "list_anual = [[\"gener\", \"febrer\", \"març\"], [\"abril\", \"maig\", \"juny\"], [\"juliol\", \"agost\", \"septembre\"],[\"octubre\", \"novembre\", \"decembre\"]]\n",
    "print (list_anual)"
   ]
  },
  {
   "cell_type": "markdown",
   "id": "2292e75a",
   "metadata": {},
   "source": [
    "## Exercici 2: Crea un codi que et permeti accedir a:"
   ]
  },
  {
   "cell_type": "markdown",
   "id": "cb44970f",
   "metadata": {},
   "source": [
    "###  Al segon mes del primer trimestre:"
   ]
  },
  {
   "cell_type": "code",
   "execution_count": 4,
   "id": "dc589cee",
   "metadata": {},
   "outputs": [
    {
     "name": "stdout",
     "output_type": "stream",
     "text": [
      "febrer\n"
     ]
    }
   ],
   "source": [
    "print(list_anual[0][1])"
   ]
  },
  {
   "cell_type": "markdown",
   "id": "eeda9fe5",
   "metadata": {},
   "source": [
    "### Als mesos del primer trimestre:"
   ]
  },
  {
   "cell_type": "code",
   "execution_count": 6,
   "id": "f038fc31",
   "metadata": {},
   "outputs": [
    {
     "name": "stdout",
     "output_type": "stream",
     "text": [
      "['gener', 'febrer', 'març']\n"
     ]
    }
   ],
   "source": [
    "print(list_anual[0])"
   ]
  },
  {
   "cell_type": "markdown",
   "id": "f56cac44",
   "metadata": {},
   "source": [
    "### Als mesos Setembre i octubre:"
   ]
  },
  {
   "cell_type": "code",
   "execution_count": 11,
   "id": "41b18537",
   "metadata": {},
   "outputs": [
    {
     "name": "stdout",
     "output_type": "stream",
     "text": [
      "septembreoctubre\n",
      "septembre octubre\n",
      "septembre octubre\n"
     ]
    }
   ],
   "source": [
    "#opción 1 junt\n",
    "print((list_anual[2][2])+(list_anual[3][0]))\n",
    "# opción 2 separat\n",
    "print((list_anual[2][2]) + \" \" + (list_anual[3][0]))\n",
    "# opoción 3 separat\n",
    "separador = ' '\n",
    "separador.join (list_anual[2][2]) + (list_anual[3][0])\n",
    "print ((list_anual[2][2]) + (separador) + (list_anual[3][0]))"
   ]
  },
  {
   "cell_type": "markdown",
   "id": "798f49aa",
   "metadata": {},
   "source": [
    "## Exercici 3: Crea una llista amb nombres desordenats i respon a les següents preguntes:"
   ]
  },
  {
   "cell_type": "code",
   "execution_count": 12,
   "id": "fc0e6b16",
   "metadata": {},
   "outputs": [],
   "source": [
    "import random"
   ]
  },
  {
   "cell_type": "code",
   "execution_count": 13,
   "id": "1889747b",
   "metadata": {},
   "outputs": [
    {
     "name": "stdout",
     "output_type": "stream",
     "text": [
      "[40, 67, 8, 61, 98, 92, 43, 28, 39, 31]\n"
     ]
    }
   ],
   "source": [
    "quant_numeros = 10\n",
    "limit_inf = 1\n",
    "limit_sup = 99\n",
    "\n",
    "llista_aleatoria = random.sample(range(limit_inf, limit_sup + 1), quant_numeros)\n",
    "\n",
    "print(llista_aleatoria)"
   ]
  },
  {
   "cell_type": "markdown",
   "id": "1e370bde",
   "metadata": {},
   "source": [
    "### Quants números hi ha?"
   ]
  },
  {
   "cell_type": "code",
   "execution_count": 14,
   "id": "1ddc7482",
   "metadata": {},
   "outputs": [
    {
     "name": "stdout",
     "output_type": "stream",
     "text": [
      "La llista té 10 numeros.\n"
     ]
    }
   ],
   "source": [
    "quants_numeros = len(llista_aleatoria)\n",
    "print(\"La llista té\", quants_numeros, \"numeros.\")"
   ]
  },
  {
   "cell_type": "markdown",
   "id": "f0a10dcf",
   "metadata": {},
   "source": [
    "### Quantes vegades apareix el número 3."
   ]
  },
  {
   "cell_type": "code",
   "execution_count": 15,
   "id": "bbe2d8f4",
   "metadata": {},
   "outputs": [
    {
     "name": "stdout",
     "output_type": "stream",
     "text": [
      "la llista conté  0 nombres 3\n"
     ]
    }
   ],
   "source": [
    "# tenint en compte el 3, com a xifra i no com a text:\n",
    "quants_3 = llista_aleatoria.count(3)\n",
    "print (\"la llista conté \", quants_3, \"nombres 3\")"
   ]
  },
  {
   "cell_type": "code",
   "execution_count": 16,
   "id": "ddc0a289",
   "metadata": {},
   "outputs": [
    {
     "name": "stdout",
     "output_type": "stream",
     "text": [
      "La llista conté: 3 si la pregunta es refereix al número 3 com a caracter\n"
     ]
    }
   ],
   "source": [
    "#Tenint en compte el 3 com a text i convertint les xifres en string\n",
    "cadena_quants_3 = ''.join(str(num) for num in llista_aleatoria)\n",
    "num_ocurrencia_3 = '3'\n",
    "quants_3_string = cadena_quants_3.count (num_ocurrencia_3)\n",
    "print (\"La llista conté:\", quants_3_string, \"si la pregunta es refereix al número 3 com a caracter\")"
   ]
  },
  {
   "cell_type": "markdown",
   "id": "ef5e2e7c",
   "metadata": {},
   "source": [
    "### Quantes vegades apareixen els nombres 3 i 4?"
   ]
  },
  {
   "cell_type": "code",
   "execution_count": 20,
   "id": "738e0e7a",
   "metadata": {},
   "outputs": [
    {
     "name": "stdout",
     "output_type": "stream",
     "text": [
      "La llista conté:  0 , nombres 3\n",
      "La llista conté: 0 , nombres 4\n"
     ]
    }
   ],
   "source": [
    "# tenint en compte el 3 i 4, com a xifres i no com a text:\n",
    "quants_3 = llista_aleatoria.count(3)\n",
    "print (\"La llista conté: \", quants_3, \", nombres 3\") \n",
    "quants_4 = llista_aleatoria.count(4)\n",
    "print (\"La llista conté:\", quants_4, \", nombres 4\") "
   ]
  },
  {
   "cell_type": "code",
   "execution_count": 23,
   "id": "7761658c",
   "metadata": {},
   "outputs": [
    {
     "name": "stdout",
     "output_type": "stream",
     "text": [
      "La llista conté: 5 nombres 3 i 4, tenint en compte el 3 i 4, com a caracters de text i independents\n"
     ]
    }
   ],
   "source": [
    "cadena_quants_4 = ''.join(str(num) for num in llista_aleatoria)\n",
    "num_ocurrencia_4 = '4'\n",
    "quants_4_string = cadena_quants_4.count (num_ocurrencia_4)\n",
    "suma_3_4 = quants_3_string +  quants_4_string\n",
    "print  (\"La llista conté:\", suma_3_4, \"nombres 3 i 4, tenint en compte el 3 i 4, com a caracters de text i independents\")"
   ]
  },
  {
   "cell_type": "markdown",
   "id": "0f7ba5b3",
   "metadata": {},
   "source": [
    "### Quin és el número més gran?"
   ]
  },
  {
   "cell_type": "code",
   "execution_count": 24,
   "id": "dab247a6",
   "metadata": {},
   "outputs": [
    {
     "name": "stdout",
     "output_type": "stream",
     "text": [
      "El número més gran és:  98\n"
     ]
    }
   ],
   "source": [
    "num_max = max (llista_aleatoria)\n",
    "print (\"El número més gran és: \", num_max) "
   ]
  },
  {
   "cell_type": "markdown",
   "id": "b3b6294c",
   "metadata": {},
   "source": [
    "### Quins són els 3 números més petits?"
   ]
  },
  {
   "cell_type": "code",
   "execution_count": 25,
   "id": "a46d0731",
   "metadata": {},
   "outputs": [
    {
     "name": "stdout",
     "output_type": "stream",
     "text": [
      "Els tres números més petits son: [8, 28, 31]\n"
     ]
    }
   ],
   "source": [
    "llista_ordenada = sorted(llista_aleatoria)\n",
    "num_min_3 = llista_ordenada[:3]\n",
    "\n",
    "print(\"Els tres números més petits son:\", num_min_3)"
   ]
  },
  {
   "cell_type": "markdown",
   "id": "7fdde593",
   "metadata": {},
   "source": [
    "### Quin és el rang d’aquesta llista?"
   ]
  },
  {
   "cell_type": "code",
   "execution_count": 26,
   "id": "0ef54132",
   "metadata": {},
   "outputs": [
    {
     "name": "stdout",
     "output_type": "stream",
     "text": [
      "El rang de la llista es: 90\n"
     ]
    }
   ],
   "source": [
    "valor_min = min(llista_aleatoria)\n",
    "valor_max = max(llista_aleatoria)\n",
    "rang = valor_max - valor_min\n",
    "\n",
    "print(\"El rang de la llista es:\", rang)"
   ]
  },
  {
   "cell_type": "markdown",
   "id": "3e0927b2",
   "metadata": {},
   "source": [
    "## Exercici 4: Crea un diccionari de la següent forma : compra = { \"Pomes\" : {\"Qty\": 5, \"€\": 0.42}, \"Peres\" : {\"Qty\": 3, \"€\": 0.66} }  "
   ]
  },
  {
   "cell_type": "code",
   "execution_count": 27,
   "id": "739933a0",
   "metadata": {},
   "outputs": [
    {
     "name": "stdout",
     "output_type": "stream",
     "text": [
      "{'Pomes': {'Qty': 5, '€': 0.42}, 'Peres': {'Qty': 3, '€': 0.66}}\n"
     ]
    }
   ],
   "source": [
    "compra = { \"Pomes\" : {\"Qty\": 5, \"€\": 0.42}, \n",
    "          \"Peres\" : {\"Qty\": 3, \"€\": 0.66} }\n",
    "print (compra)"
   ]
  },
  {
   "cell_type": "markdown",
   "id": "b2755eb4",
   "metadata": {},
   "source": [
    "## Respon a les preguntes:"
   ]
  },
  {
   "cell_type": "markdown",
   "id": "f9ff86ea",
   "metadata": {},
   "source": [
    "### Afegeix alguna fruita més"
   ]
  },
  {
   "cell_type": "code",
   "execution_count": 28,
   "id": "b7e39d86",
   "metadata": {},
   "outputs": [
    {
     "name": "stdout",
     "output_type": "stream",
     "text": [
      "{'Pomes': {'Qty': 5, '€': 0.42}, 'Peres': {'Qty': 3, '€': 0.66}, 'Platans': {'Qty': 2, '€': 0.8}}\n"
     ]
    }
   ],
   "source": [
    "compra.update ({\"Platans\":{'Qty':2,'€':0.80}}) \n",
    "print (compra)"
   ]
  },
  {
   "cell_type": "markdown",
   "id": "374b91d7",
   "metadata": {},
   "source": [
    "### Quant han costat les peres en total?"
   ]
  },
  {
   "cell_type": "code",
   "execution_count": 32,
   "id": "4a0d7ab4",
   "metadata": {},
   "outputs": [
    {
     "name": "stdout",
     "output_type": "stream",
     "text": [
      "Les peres han costat 1.98\n"
     ]
    }
   ],
   "source": [
    "quantitat_peres = compra['Peres']['Qty'] * compra['Peres']['€']\n",
    "print (\"Les peres han costat\", quantitat_peres)"
   ]
  },
  {
   "cell_type": "markdown",
   "id": "249d6298",
   "metadata": {},
   "source": [
    "### Quantes fruites hem comprat en total?"
   ]
  },
  {
   "cell_type": "code",
   "execution_count": 33,
   "id": "e86f28ca",
   "metadata": {},
   "outputs": [
    {
     "name": "stdout",
     "output_type": "stream",
     "text": [
      "Hem comprat 10 fruites en total\n"
     ]
    }
   ],
   "source": [
    "fruita_total = 0\n",
    "\n",
    "for fruita in compra:\n",
    "    fruita_total += compra[fruita][\"Qty\"]\n",
    "\n",
    "print(\"Hem comprat\", fruita_total, \"fruites en total\")"
   ]
  },
  {
   "cell_type": "markdown",
   "id": "786bacf2",
   "metadata": {},
   "source": [
    "### Quina és la fruita més cara?"
   ]
  },
  {
   "cell_type": "code",
   "execution_count": 36,
   "id": "65a3575b",
   "metadata": {},
   "outputs": [
    {
     "name": "stdout",
     "output_type": "stream",
     "text": [
      "La fruita més cara són les Pomes\n"
     ]
    }
   ],
   "source": [
    "fruita_cara = max (compra)\n",
    "print (\"La fruita més cara són les\",fruita_cara)"
   ]
  }
 ],
 "metadata": {
  "kernelspec": {
   "display_name": "Python 3 (ipykernel)",
   "language": "python",
   "name": "python3"
  },
  "language_info": {
   "codemirror_mode": {
    "name": "ipython",
    "version": 3
   },
   "file_extension": ".py",
   "mimetype": "text/x-python",
   "name": "python",
   "nbconvert_exporter": "python",
   "pygments_lexer": "ipython3",
   "version": "3.10.9"
  }
 },
 "nbformat": 4,
 "nbformat_minor": 5
}
