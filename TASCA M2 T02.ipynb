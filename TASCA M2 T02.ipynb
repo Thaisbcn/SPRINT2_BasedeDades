{
 "cells": [
  {
   "cell_type": "markdown",
   "id": "add3ea4a",
   "metadata": {},
   "source": [
    "# TASCA M2 T02"
   ]
  },
  {
   "cell_type": "markdown",
   "id": "29c7af48",
   "metadata": {},
   "source": [
    "### Exercici 1: Crear un programa que et classifiqui una variable numèrica en funció de l’escala Suspès/Aprovat/Notable/Excel·lent.\n",
    "####  Recorda que Suspès < 5, Aprovat > 5 i < 7, Notable > 7 i < 9 i Excel·lent > 9."
   ]
  },
  {
   "cell_type": "code",
   "execution_count": 1,
   "id": "2867687a",
   "metadata": {},
   "outputs": [],
   "source": [
    "def qualificacio ():\n",
    "    \n",
    "    nota = float(input(\"introdueixi la seva nota:\"))\n",
    "    \n",
    "    print(F\"Amb la nota {nota} la seva qualificació és:\")\n",
    "    \n",
    "    if nota < 5 and nota >=0:\n",
    "        print ('Suspès')\n",
    "        \n",
    "    elif nota  >= 5 and nota < 7:\n",
    "        print ('Aprovat')\n",
    "    elif nota >= 7 and nota < 9 :\n",
    "        print ('Notable')\n",
    "    elif nota >= 9 and nota <=10:\n",
    "        print ('Excel·lent')\n",
    "    else:\n",
    "        print(\"AT!La nota ha de ser un número entre el 0 i el 10. Exemple: 6.5\")"
   ]
  },
  {
   "cell_type": "code",
   "execution_count": 2,
   "id": "ed34b682",
   "metadata": {},
   "outputs": [
    {
     "name": "stdout",
     "output_type": "stream",
     "text": [
      "introdueixi la seva nota:4.9\n",
      "Amb la nota 4.9 la seva qualificació és:\n",
      "Suspès\n"
     ]
    }
   ],
   "source": [
    "qualificacio ()"
   ]
  },
  {
   "cell_type": "code",
   "execution_count": 3,
   "id": "b96be02d",
   "metadata": {},
   "outputs": [
    {
     "name": "stdout",
     "output_type": "stream",
     "text": [
      "introdueixi la seva nota:5.27\n",
      "Amb la nota 5.27 la seva qualificació és:\n",
      "Aprovat\n"
     ]
    }
   ],
   "source": [
    "qualificacio ()"
   ]
  },
  {
   "cell_type": "code",
   "execution_count": 4,
   "id": "704089a2",
   "metadata": {},
   "outputs": [
    {
     "name": "stdout",
     "output_type": "stream",
     "text": [
      "introdueixi la seva nota:11\n",
      "Amb la nota 11.0 la seva qualificació és:\n",
      "AT!La nota ha de ser un número entre el 0 i el 10. Exemple: 6.5\n"
     ]
    }
   ],
   "source": [
    "qualificacio ()"
   ]
  },
  {
   "cell_type": "code",
   "execution_count": 5,
   "id": "55f18793",
   "metadata": {},
   "outputs": [
    {
     "name": "stdout",
     "output_type": "stream",
     "text": [
      "introdueixi la seva nota:8.99\n",
      "Amb la nota 8.99 la seva qualificació és:\n",
      "Notable\n"
     ]
    }
   ],
   "source": [
    "qualificacio ()"
   ]
  },
  {
   "cell_type": "code",
   "execution_count": 6,
   "id": "338ee39f",
   "metadata": {},
   "outputs": [
    {
     "name": "stdout",
     "output_type": "stream",
     "text": [
      "introdueixi la seva nota:9.1\n",
      "Amb la nota 9.1 la seva qualificació és:\n",
      "Excel·lent\n"
     ]
    }
   ],
   "source": [
    "qualificacio ()"
   ]
  },
  {
   "cell_type": "markdown",
   "id": "7f583834",
   "metadata": {},
   "source": [
    "### Exercici 2: Utilitzant el següent tutorial crea un programa que et pregunti dos números. T’ha de mostrar un missatge dient si el primer és més gran, el segon és més gran o són iguals.\n"
   ]
  },
  {
   "cell_type": "code",
   "execution_count": 7,
   "id": "8dc45753",
   "metadata": {},
   "outputs": [],
   "source": [
    "def comparativa ():\n",
    "    num1 = input('Indiqui el primer número:')\n",
    "    num2 = input('Indiqui el segon número:')\n",
    "    if num1 > num2:\n",
    "        print (f'el número {num1} és major que el número {num2}')\n",
    "    if num2 > num1:\n",
    "        print (f'el número {num1} és menor que el número {num2}')\n",
    "    if num1 == num2:\n",
    "        print (f'els número {num1} i {num2} són iguals')"
   ]
  },
  {
   "cell_type": "code",
   "execution_count": 8,
   "id": "9f65e17c",
   "metadata": {},
   "outputs": [
    {
     "name": "stdout",
     "output_type": "stream",
     "text": [
      "Indiqui el primer número:786546\n",
      "Indiqui el segon número:3\n",
      "el número 786546 és major que el número 3\n"
     ]
    }
   ],
   "source": [
    "comparativa ()"
   ]
  },
  {
   "cell_type": "code",
   "execution_count": 9,
   "id": "af4c582e",
   "metadata": {},
   "outputs": [
    {
     "name": "stdout",
     "output_type": "stream",
     "text": [
      "Indiqui el primer número:25000\n",
      "Indiqui el segon número:25000\n",
      "els número 25000 i 25000 són iguals\n"
     ]
    }
   ],
   "source": [
    "comparativa ()"
   ]
  },
  {
   "cell_type": "code",
   "execution_count": 12,
   "id": "61135ba7",
   "metadata": {},
   "outputs": [
    {
     "name": "stdout",
     "output_type": "stream",
     "text": [
      "Indiqui el primer número:0,1\n",
      "Indiqui el segon número:0,234\n",
      "el número 0,1 és menor que el número 0,234\n"
     ]
    }
   ],
   "source": [
    "comparativa ()"
   ]
  },
  {
   "cell_type": "markdown",
   "id": "b0067d7a",
   "metadata": {},
   "source": [
    "### Exercici 3: Crea un programa que et pregunti el teu nom, i et demani un número. Si el número és 0, hauria de mostrar un missatge d’error. En cas contrari, hauria de mostrar el nom repetit tants cops com indiqui el número. Per exemple, “Joan Joan Joan”.\n"
   ]
  },
  {
   "cell_type": "code",
   "execution_count": 13,
   "id": "d206f25f",
   "metadata": {},
   "outputs": [],
   "source": [
    "def nomrepe():\n",
    "    nom = str(input('Quin és el seu nom?'))\n",
    "    rep = 0\n",
    "    \n",
    "    while rep <= 0 or rep > 10:\n",
    "        rep = int(input('Indiqui el número de repeticions que vol (ha de ser un número entre 1 i 10):'))\n",
    "\n",
    "        if rep <= 0:\n",
    "            print('ERROR ! el número ha de ser superior a 0')\n",
    "        elif rep > 10:\n",
    "            print('ERROR !Indiqui un número entre l´1 i el 10')\n",
    "        \n",
    "        else:\n",
    "            for _ in range(rep):\n",
    "                print(nom)"
   ]
  },
  {
   "cell_type": "code",
   "execution_count": 14,
   "id": "9bf11202",
   "metadata": {
    "scrolled": true
   },
   "outputs": [
    {
     "name": "stdout",
     "output_type": "stream",
     "text": [
      "Quin és el seu nom?Thaïs\n",
      "Indiqui el número de repeticions que vol (ha de ser un número entre 1 i 10):3\n",
      "Thaïs\n",
      "Thaïs\n",
      "Thaïs\n"
     ]
    }
   ],
   "source": [
    "nomrepe ()"
   ]
  },
  {
   "cell_type": "code",
   "execution_count": 15,
   "id": "0a7db7c9",
   "metadata": {},
   "outputs": [
    {
     "name": "stdout",
     "output_type": "stream",
     "text": [
      "Quin és el seu nom?Josep Ramón Vidal Peña\n",
      "Indiqui el número de repeticions que vol (ha de ser un número entre 1 i 10):11\n",
      "ERROR !Indiqui un número entre l´1 i el 10\n",
      "Indiqui el número de repeticions que vol (ha de ser un número entre 1 i 10):0\n",
      "ERROR ! el número ha de ser superior a 0\n",
      "Indiqui el número de repeticions que vol (ha de ser un número entre 1 i 10):4\n",
      "Josep Ramón Vidal Peña\n",
      "Josep Ramón Vidal Peña\n",
      "Josep Ramón Vidal Peña\n",
      "Josep Ramón Vidal Peña\n"
     ]
    }
   ],
   "source": [
    "nomrepe ()"
   ]
  },
  {
   "cell_type": "markdown",
   "id": "82a12b88",
   "metadata": {},
   "source": [
    "### Exercici 4: Crea un programa que donada una llista qualsevol, et digui si és simètrica o no. Si ho és, que et digui quants elements té."
   ]
  },
  {
   "cell_type": "code",
   "execution_count": 19,
   "id": "1c20a0c7",
   "metadata": {},
   "outputs": [
    {
     "name": "stdout",
     "output_type": "stream",
     "text": [
      "Ingresi, un per un, els 5 números sencers desitjats, entre 0 y 1000:\n",
      "Ítem 1: 50\n",
      "Ítem 2: 33\n",
      "Ítem 3: 9\n",
      "Ítem 4: 33\n",
      "Ítem 5: 50\n",
      "Llista simètrica amb 5 elements.\n"
     ]
    }
   ],
   "source": [
    "def llista(a):\n",
    "    reversed_list = a.copy()\n",
    "    reversed_list.reverse()\n",
    "    if a == reversed_list:\n",
    "        print('Llista simètrica amb {} elements.'.format(len(a)))\n",
    "    else:\n",
    "        print('Llista asimètrica.')\n",
    "\n",
    "print(\"Ingresi, un per un, els 5 números sencers desitjats, entre 0 y 1000:\")\n",
    "llista_input = []\n",
    "\n",
    "while len(llista_input) < 5:\n",
    "    user_input = input(\"Ítem {}: \".format(len(llista_input) + 1))\n",
    "\n",
    "    try:\n",
    "        number = int(user_input)\n",
    "        if 0 <= number <= 1000:\n",
    "            llista_input.append(number)\n",
    "        else:\n",
    "            print(\"Número erroni. Ingresi un número entre 0 y 1000.\")\n",
    "    except ValueError:\n",
    "        print(\"Entrada no válida. Ingresi un número entre 0 y 1000.\")\n",
    "\n",
    "if len(llista_input) == 0:\n",
    "    print(\"No s'ha ingressat cap número.\")\n",
    "\n",
    "llista(llista_input)\n"
   ]
  },
  {
   "cell_type": "markdown",
   "id": "a43fec91",
   "metadata": {},
   "source": [
    "### Crea un programa que donada una llista, et digui quants números coincideixen amb la seva posició. Per exemple [3,4,2,0,2,3,6] el 2 i el 6 coincideixen.\n"
   ]
  },
  {
   "cell_type": "code",
   "execution_count": 25,
   "id": "130fb869",
   "metadata": {},
   "outputs": [
    {
     "name": "stdout",
     "output_type": "stream",
     "text": [
      "El número de qüincidencies entre l'index i el número que ocupa a la llista és 4\n"
     ]
    }
   ],
   "source": [
    "nums_list = [1, 1, 4, 7, 8, 5, 80, 7, 8, 100]\n",
    "count=0\n",
    "for index, número in enumerate(nums_list):\n",
    "    if index == número:\n",
    "        count+= 1\n",
    "print(f\"El número de qüincidencies entre l'index i el número que ocupa a la llista és {count}\")\n",
    "        \n"
   ]
  }
 ],
 "metadata": {
  "kernelspec": {
   "display_name": "Python 3 (ipykernel)",
   "language": "python",
   "name": "python3"
  },
  "language_info": {
   "codemirror_mode": {
    "name": "ipython",
    "version": 3
   },
   "file_extension": ".py",
   "mimetype": "text/x-python",
   "name": "python",
   "nbconvert_exporter": "python",
   "pygments_lexer": "ipython3",
   "version": "3.10.9"
  }
 },
 "nbformat": 4,
 "nbformat_minor": 5
}
